{
  "nbformat": 4,
  "nbformat_minor": 0,
  "metadata": {
    "colab": {
      "name": "Untitled0.ipynb",
      "provenance": [],
      "authorship_tag": "ABX9TyNPW+aHAjVHdv5V9hV1jA4E",
      "include_colab_link": true
    },
    "kernelspec": {
      "name": "python3",
      "display_name": "Python 3"
    },
    "language_info": {
      "name": "python"
    }
  },
  "cells": [
    {
      "cell_type": "markdown",
      "metadata": {
        "id": "view-in-github",
        "colab_type": "text"
      },
      "source": [
        "<a href=\"https://colab.research.google.com/github/Aravindanhtml/Assigment-submission/blob/main/Untitled0.ipynb\" target=\"_parent\"><img src=\"https://colab.research.google.com/assets/colab-badge.svg\" alt=\"Open In Colab\"/></a>"
      ]
    },
    {
      "cell_type": "code",
      "metadata": {
        "colab": {
          "base_uri": "https://localhost:8080/"
        },
        "id": "qEQmhzr9F8PD",
        "outputId": "a2387989-ef0f-4148-98e9-6c00758d9521"
      },
      "source": [
        "# a simple calculator\n",
        "a=int(input(\"enter the first number\"))\n",
        "b=int(input(\"enter the second number\"))\n",
        "sub=a-b\n",
        "mul=a*b\n",
        "div=a/b\n",
        "print(sub)\n",
        "print(mul)\n",
        "print(div)"
      ],
      "execution_count": 1,
      "outputs": [
        {
          "output_type": "stream",
          "text": [
            "enter the first number10\n",
            "enter the second number5\n",
            "5\n",
            "50\n",
            "2.0\n"
          ],
          "name": "stdout"
        }
      ]
    }
  ]
}